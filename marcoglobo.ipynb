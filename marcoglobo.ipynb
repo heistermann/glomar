{
 "cells": [
  {
   "cell_type": "code",
   "execution_count": 1,
   "metadata": {},
   "outputs": [
    {
     "name": "stderr",
     "output_type": "stream",
     "text": [
      "/home/maik/miniconda3/envs/wradlib/lib/python3.7/importlib/_bootstrap.py:219: RuntimeWarning: numpy.dtype size changed, may indicate binary incompatibility. Expected 96, got 88\n",
      "  return f(*args, **kwds)\n"
     ]
    }
   ],
   "source": [
    "import wradlib\n",
    "import matplotlib.pyplot as plt\n",
    "import pandas as pd\n",
    "from osgeo import ogr, osr\n",
    "import numpy as np\n",
    "from descartes import PolygonPatch"
   ]
  },
  {
   "cell_type": "code",
   "execution_count": 2,
   "metadata": {},
   "outputs": [
    {
     "name": "stdout",
     "output_type": "stream",
     "text": [
      "Using matplotlib backend: Qt5Agg\n"
     ]
    }
   ],
   "source": [
    "%matplotlib"
   ]
  },
  {
   "cell_type": "code",
   "execution_count": 3,
   "metadata": {},
   "outputs": [],
   "source": [
    "#radars = pd.read_csv(r\"P:\\progress\\global_radar_map\\GlobalRadarStations.csv\", sep = \";\", encoding=\"cp1252\")"
   ]
  },
  {
   "cell_type": "code",
   "execution_count": 4,
   "metadata": {},
   "outputs": [],
   "source": [
    "radars = pd.read_csv(\"WRD_radar info.csv\", sep = \";\", encoding=\"cp1252\")"
   ]
  },
  {
   "cell_type": "code",
   "execution_count": 6,
   "metadata": {},
   "outputs": [],
   "source": [
    "radars[\"x\"] = radars.Lon_Deg + radars.Lon_Min/60. + radars.Lon_Sec/3600.\n",
    "radars[\"y\"] = radars.Lat_Deg + radars.Lat_Min/60. + radars.Lat_Sec/3600.\n",
    "radars.loc[radars.Lon_Dir==\"W\", \"x\"] = -radars.loc[radars.Lon_Dir==\"W\", \"x\"]\n",
    "radars.loc[radars.Lat_Dir==\"S\", \"y\"] = -radars.loc[radars.Lat_Dir==\"S\", \"y\"]"
   ]
  },
  {
   "cell_type": "code",
   "execution_count": 7,
   "metadata": {},
   "outputs": [],
   "source": [
    "china = pd.read_csv(\"others/china.csv\", sep = \",\", encoding=\"cp1252\")\n",
    "phili = pd.read_csv(\"others/philippines.csv\", sep = \";\", encoding=\"cp1252\")\n",
    "others = pd.read_csv(\"others/others.csv\", sep = \";\", encoding=\"cp1252\")"
   ]
  },
  {
   "cell_type": "code",
   "execution_count": 8,
   "metadata": {},
   "outputs": [],
   "source": [
    "x = np.array([])\n",
    "y = np.array([])\n",
    "x = np.append(x, radars.x)\n",
    "y = np.append(y, radars.y)\n",
    "x = np.append(x, china.x)\n",
    "y = np.append(y, china.y)\n",
    "x = np.append(x, phili.x)\n",
    "y = np.append(y, phili.y)\n",
    "x = np.append(x, others.x)\n",
    "y = np.append(y, others.y)"
   ]
  },
  {
   "cell_type": "code",
   "execution_count": 9,
   "metadata": {},
   "outputs": [
    {
     "data": {
      "text/plain": [
       "[<matplotlib.lines.Line2D at 0x7fa4e88d0160>]"
      ]
     },
     "execution_count": 9,
     "metadata": {},
     "output_type": "execute_result"
    }
   ],
   "source": [
    "plt.plot(radars.x, radars.y, \"k+\")"
   ]
  },
  {
   "cell_type": "code",
   "execution_count": 14,
   "metadata": {},
   "outputs": [
    {
     "data": {
      "text/plain": [
       "[<matplotlib.lines.Line2D at 0x7fa4e8414780>]"
      ]
     },
     "execution_count": 14,
     "metadata": {},
     "output_type": "execute_result"
    }
   ],
   "source": [
    "plt.plot(china.x, china.y, \"k+\")\n",
    "#plt.plot(radars[radars.Country==\"China\"].x, radars[radars.Country==\"China\"].y, \"r+\")"
   ]
  },
  {
   "cell_type": "code",
   "execution_count": 15,
   "metadata": {},
   "outputs": [],
   "source": [
    "# Target projection\n",
    "#   Robinson\n",
    "proj = wradlib.georef.epsg_to_osr(54030)\n",
    "#   Mercator world\n",
    "#proj = wradlib.georef.proj4_to_osr(\"+proj=merc +lon_0=0 +k=1 +x_0=0 +y_0=0 +ellps=WGS84 +datum=WGS84 +units=m +no_defs\") \n",
    "#   Winkel Tripel\n",
    "#proj = wradlib.georef.epsg_to_osr(54018)\n",
    "#proj = wradlib.georef.wkt_to_osr('PROJCS[\"World_Winkel_Tripel_NGS\",GEOGCS[\"GCS_WGS_1984\",DATUM[\"D_WGS_1984\",SPHEROID[\"WGS_1984\",6378137.0,298.257223563]],PRIMEM[\"Greenwich\",0.0],UNIT[\"Degree\",0.0174532925199433]],PROJECTION[\"Winkel_Tripel\"],PARAMETER[\"False_Easting\",0.0],PARAMETER[\"False_Northing\",0.0],PARAMETER[\"Central_Meridian\",15.0],PARAMETER[\"Standard_Parallel_1\",40.0],UNIT[\"Meter\",1.0]]')"
   ]
  },
  {
   "cell_type": "code",
   "execution_count": 16,
   "metadata": {},
   "outputs": [],
   "source": [
    "source = wradlib.georef.get_default_projection()\n",
    "transform = osr.CoordinateTransformation(source, proj)\n",
    "retransform = osr.CoordinateTransformation(proj, source)"
   ]
  },
  {
   "cell_type": "code",
   "execution_count": 17,
   "metadata": {},
   "outputs": [],
   "source": [
    "def write_geojson(fname, geometry, geom_type):\n",
    "    \"\"\"Write GeoJSON file for ogr geometries\n",
    "    \n",
    "    Parameters\n",
    "    ----------\n",
    "    fname : string\n",
    "    geometry : ogr Geometry object\n",
    "    geom_type : ogr Geometry type, \n",
    "        e.g. ogr.wkbMultiPolygon, ogr.wkbPolygon, ogr.wkbMultiPoint\n",
    "    \n",
    "    \"\"\"\n",
    "    outDriver = ogr.GetDriverByName('GeoJSON')\n",
    "\n",
    "    # Create the output GeoJSON\n",
    "    outDataSource = outDriver.CreateDataSource(fname)\n",
    "    outLayer = outDataSource.CreateLayer(fname, geom_type=geom_type)\n",
    "\n",
    "    # Get the output Layer's Feature Definition\n",
    "    featureDefn = outLayer.GetLayerDefn()\n",
    "\n",
    "    # create a new feature\n",
    "    outFeature = ogr.Feature(featureDefn)\n",
    "\n",
    "    # Set new geometry\n",
    "    outFeature.SetGeometry(geometry)\n",
    "\n",
    "    # Add new feature to output Layer\n",
    "    outLayer.CreateFeature(outFeature)\n",
    "\n",
    "    # dereference the feature\n",
    "    outFeature = None\n",
    "\n",
    "    # Save and close DataSources\n",
    "    outDataSource = None"
   ]
  },
  {
   "cell_type": "code",
   "execution_count": 18,
   "metadata": {},
   "outputs": [],
   "source": [
    "r = 200000\n",
    "phi = np.arange(0, 360, 2)\n",
    "theta = 0.5\n",
    "bufrs = []\n",
    "for i in range(len(x)):\n",
    "    sitecoords = (x[i], y[i])\n",
    "    pts = wradlib.georef.polar.spherical_to_proj(\n",
    "        np.repeat(r, len(phi)), phi, np.repeat(theta, len(phi)), sitecoords\n",
    "    )\n",
    "    # Create ring\n",
    "    ring = ogr.Geometry(ogr.wkbLinearRing)\n",
    "    for pt in pts:\n",
    "        ring.AddPoint(pt[0], pt[1])\n",
    "    # Close ring\n",
    "    ring.AddPoint(pts[0][0], pts[0][1])\n",
    "\n",
    "    # Create polygon\n",
    "    poly = ogr.Geometry(ogr.wkbPolygon)\n",
    "    poly.AddGeometry(ring)\n",
    "    bufrs.append(poly)"
   ]
  },
  {
   "cell_type": "code",
   "execution_count": 19,
   "metadata": {},
   "outputs": [
    {
     "name": "stdout",
     "output_type": "stream",
     "text": [
      "Cannot process i= 179\n"
     ]
    }
   ],
   "source": [
    "union = bufrs[0]\n",
    "for i, bufr in enumerate(bufrs[1:]):\n",
    "    #if i in [315,]:\n",
    "    #    continue\n",
    "    try:\n",
    "        union = union.Union(bufr)\n",
    "    except RuntimeError:\n",
    "        print(\"Cannot process i=\", i)\n",
    "#union.Transform(transform)"
   ]
  },
  {
   "cell_type": "code",
   "execution_count": 20,
   "metadata": {},
   "outputs": [],
   "source": [
    "# Create ring\n",
    "ring = ogr.Geometry(ogr.wkbLinearRing)\n",
    "for i in np.linspace(-89.99, 89.99, 100):\n",
    "    ring.AddPoint(-179.99, i)\n",
    "for i in np.linspace(-179.99, 179.99, 100):\n",
    "    ring.AddPoint(i, 89.99)\n",
    "for i in np.linspace(89.99, -89.99, 100):\n",
    "    ring.AddPoint(179.99, i)\n",
    "for i in np.linspace(179.99, -179.99, 100):\n",
    "    ring.AddPoint(i, -89.99)\n",
    "\n",
    "# Create polygon\n",
    "poly = ogr.Geometry(ogr.wkbPolygon)\n",
    "poly.AddGeometry(ring)\n",
    "#poly.Transform(transform)\n",
    "\n",
    "write_geojson(\"out/clipfrom.geojson\", poly, ogr.wkbPolygon)"
   ]
  },
  {
   "cell_type": "code",
   "execution_count": 21,
   "metadata": {},
   "outputs": [],
   "source": [
    "clipped = poly.Difference(union)\n",
    "#clipped.Transform(retransform)"
   ]
  },
  {
   "cell_type": "code",
   "execution_count": 22,
   "metadata": {},
   "outputs": [],
   "source": [
    "write_geojson(\"out/clipped.geojson\", clipped, ogr.wkbMultiPolygon)"
   ]
  },
  {
   "cell_type": "code",
   "execution_count": 188,
   "metadata": {},
   "outputs": [],
   "source": [
    "#clipped_dict = eval(clipped.ExportToJson())"
   ]
  },
  {
   "cell_type": "code",
   "execution_count": 189,
   "metadata": {},
   "outputs": [],
   "source": [
    "#fig = plt.figure() \n",
    "#ax = fig.gca() \n",
    "#ax.add_patch(PolygonPatch(clipped_dict, fc=\"black\", ec=\"none\"))\n",
    "#ax.axis('scaled')"
   ]
  },
  {
   "cell_type": "code",
   "execution_count": 190,
   "metadata": {},
   "outputs": [],
   "source": [
    "#dem = wradlib.io.read_generic_netcdf(r\"P:\\progress\\global_radar_map\\GMTED2010_15n030_0125deg.nc\")\n",
    "#\n",
    "#lat = dem[\"variables\"][\"latitude\"][\"data\"]\n",
    "#lon = dem[\"variables\"][\"longitude\"][\"data\"]\n",
    "#elev = dem[\"variables\"][\"elevation\"][\"data\"]\n",
    "#\n",
    "#lon, lat = np.meshgrid(lon, lat)"
   ]
  },
  {
   "cell_type": "code",
   "execution_count": 91,
   "metadata": {},
   "outputs": [],
   "source": [
    "#x, y = wradlib.georef.reproject(lon, lat, projection_target=proj)"
   ]
  },
  {
   "cell_type": "code",
   "execution_count": 23,
   "metadata": {},
   "outputs": [],
   "source": [
    "grdlon, grdlat = np.meshgrid(range(-180, 200, 20), range(-90,92,2))\n",
    "grdx, grdy = wradlib.georef.reproject(grdlon, grdlat, projection_target=proj)\n",
    "\n",
    "grdlon, grdlat = np.meshgrid(range(-180, 182, 2), range(-90, 100, 10))\n",
    "grdx_, grdy_ = wradlib.georef.reproject(grdlon.T, grdlat.T, projection_target=proj)"
   ]
  },
  {
   "cell_type": "code",
   "execution_count": 24,
   "metadata": {},
   "outputs": [],
   "source": [
    "clipped.Transform(transform)\n",
    "clipped_dict = eval(clipped.ExportToJson())"
   ]
  },
  {
   "cell_type": "code",
   "execution_count": 28,
   "metadata": {},
   "outputs": [],
   "source": [
    "ds = wradlib.io.open_raster(\"/media/x/data/etopo1/DEM_geotiff/alwdgg.tif\")#E:\\data\\etopo1\\DEM_geotiff\\alwdgg.tif\")\n",
    "# pixel_spacing is in output units (lonlat)\n",
    "#ds = wradlib.georef.reproject_raster_dataset(ds, spacing=0.1, projection_target=proj)\n",
    "rastervalues, rastercoords, projsrc = wradlib.georef.extract_raster_dataset(ds)\n",
    "rastercoords[...,0][rastercoords[...,0] > 180.] = 179.999\n",
    "rastercoords[...,0][rastercoords[...,0] < -180.] = -179.999\n",
    "rastercoords[...,1][rastercoords[...,1] > 90.] = 89.999\n",
    "rastercoords[...,1][rastercoords[...,1] < -90.] = -89.999\n",
    "# specify kwargs for plotting, using terrain colormap and LogNorm"
   ]
  },
  {
   "cell_type": "code",
   "execution_count": 29,
   "metadata": {},
   "outputs": [],
   "source": [
    "etopo_x, etopo_y = wradlib.georef.reproject(rastercoords[..., 0], rastercoords[..., 1], projection_target=proj)"
   ]
  },
  {
   "cell_type": "code",
   "execution_count": 31,
   "metadata": {},
   "outputs": [
    {
     "name": "stderr",
     "output_type": "stream",
     "text": [
      "/home/maik/miniconda3/envs/wradlib/lib/python3.7/site-packages/wradlib/georef/vector.py:96: UserWarning: geometry without spatial reference - assuming wgs84\n",
      "  warnings.warn(\"geometry without spatial reference - assuming wgs84\")\n"
     ]
    }
   ],
   "source": [
    "dataset, inLayer = wradlib.io.open_vector(\"/media/x/data/natural_earth/ne_50m_coastline.shp\")#(r\"E:\\data\\natural_earth\\ne_50m_coastline.shp\")\n",
    "costlines, keys = wradlib.georef.get_vector_coordinates(inLayer, dest_srs=proj)\n",
    "\n",
    "dataset, inLayer = wradlib.io.open_vector(\"/media/x/data/natural_earth/ne_50m_admin_0_countries/ne_50m_admin_0_countries.shp\")#(r\"E:\\data\\natural_earth\\ne_50m_admin_0_countries\\ne_50m_admin_0_countries.shp\")\n",
    "borders, keys = wradlib.georef.get_vector_coordinates(inLayer, dest_srs=proj)"
   ]
  },
  {
   "cell_type": "code",
   "execution_count": 196,
   "metadata": {},
   "outputs": [],
   "source": [
    "#inLayer.SetSpatialFilter(union)\n",
    "#borders, keys = wradlib.georef.get_vector_coordinates(inLayer, dest_srs=proj)"
   ]
  },
  {
   "cell_type": "code",
   "execution_count": 32,
   "metadata": {},
   "outputs": [],
   "source": [
    "from matplotlib import colors\n",
    "\n",
    "bounds=[-10000, -5000, -4000, -2000, -1000, -500, -100, -10, 0, 10, 50, 100, 200, 300, 400, 500, 600, 700, 1000, 1500, 2000, 10000]\n",
    "cmap = colors.ListedColormap(plt.cm.gist_earth(np.linspace(0,1,len(bounds)-1))) #colors.ListedColormap(['white', 'red'])\n",
    "norm = colors.BoundaryNorm(bounds, cmap.N)\n",
    "\n",
    "fig = plt.figure(figsize=(15,15))\n",
    "ax = fig.add_subplot(111, aspect=\"equal\")\n",
    "fig.patch.set_visible(False)\n",
    "ax.axis('off')\n",
    "img = plt.pcolormesh(etopo_x, etopo_y, rastervalues, cmap=cmap, norm=norm)#cmap=plt.cm.terrain)\n",
    "#cb = plt.colorbar(img, cmap=cmap, norm=norm, boundaries=bounds, ticks=bounds)\n",
    "ax.add_patch(PolygonPatch(clipped_dict, fc=\"black\", ec=\"black\", alpha=0.7))\n",
    "wradlib.vis.add_lines(ax, borders, color='black', lw=0.3)\n",
    "latlines = plt.plot(grdx, grdy, \"w-\", linewidth=0.2) \n",
    "lonlines = plt.plot(grdx_, grdy_, \"w-\", linewidth=0.2)\n",
    "\n",
    "plt.tight_layout()\n",
    "\n",
    "#plt.savefig(\"globalmap.png\", dpi=300)"
   ]
  },
  {
   "cell_type": "code",
   "execution_count": 33,
   "metadata": {},
   "outputs": [],
   "source": [
    "# ... Stack them\n",
    "rgb = np.dstack([rastervalues[0], rastervalues[1], rastervalues[2]])\n",
    "\n",
    "# Reshape as list of rgb tuples\n",
    "color_tuples = np.array([rastervalues[0].flatten(), rastervalues[1].flatten(), rastervalues[2].flatten()]).transpose()"
   ]
  },
  {
   "cell_type": "code",
   "execution_count": 34,
   "metadata": {},
   "outputs": [],
   "source": [
    "fig = plt.figure(figsize=(10,10))\n",
    "ax = fig.add_subplot(111, aspect='equal')\n",
    "dem = ax.pcolormesh(rastercoords[..., 0], rastercoords[..., 1],\n",
    "                    rastervalues, cmap=plt.cm.terrain)"
   ]
  },
  {
   "cell_type": "code",
   "execution_count": null,
   "metadata": {},
   "outputs": [],
   "source": [
    "plt.pcolormesh(rastervalues[0], color=color_tuples)"
   ]
  }
 ],
 "metadata": {
  "kernelspec": {
   "display_name": "Python 3",
   "language": "python",
   "name": "python3"
  },
  "language_info": {
   "codemirror_mode": {
    "name": "ipython",
    "version": 3
   },
   "file_extension": ".py",
   "mimetype": "text/x-python",
   "name": "python",
   "nbconvert_exporter": "python",
   "pygments_lexer": "ipython3",
   "version": "3.7.0"
  },
  "toc": {
   "colors": {
    "hover_highlight": "#DAA520",
    "navigate_num": "#000000",
    "navigate_text": "#333333",
    "running_highlight": "#FF0000",
    "selected_highlight": "#FFD700",
    "sidebar_border": "#EEEEEE",
    "wrapper_background": "#FFFFFF"
   },
   "moveMenuLeft": true,
   "nav_menu": {
    "height": "12px",
    "width": "252px"
   },
   "navigate_menu": true,
   "number_sections": false,
   "sideBar": true,
   "threshold": 4,
   "toc_cell": false,
   "toc_section_display": "block",
   "toc_window_display": false,
   "widenNotebook": false
  }
 },
 "nbformat": 4,
 "nbformat_minor": 2
}
