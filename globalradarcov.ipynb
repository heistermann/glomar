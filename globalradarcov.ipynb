{
 "cells": [
  {
   "cell_type": "code",
   "execution_count": 36,
   "metadata": {},
   "outputs": [],
   "source": [
    "import wradlib\n",
    "import matplotlib.pyplot as plt\n",
    "import pandas as pd\n",
    "from osgeo import ogr, osr\n",
    "import numpy as np"
   ]
  },
  {
   "cell_type": "code",
   "execution_count": 37,
   "metadata": {},
   "outputs": [],
   "source": [
    "import descartes"
   ]
  },
  {
   "cell_type": "code",
   "execution_count": 38,
   "metadata": {},
   "outputs": [
    {
     "name": "stdout",
     "output_type": "stream",
     "text": [
      "Using matplotlib backend: Qt5Agg\n"
     ]
    }
   ],
   "source": [
    "%matplotlib"
   ]
  },
  {
   "cell_type": "code",
   "execution_count": 39,
   "metadata": {},
   "outputs": [],
   "source": [
    "dem = wradlib.io.read_generic_netcdf(r\"P:\\progress\\global_radar_map\\GMTED2010_15n030_0125deg.nc\")"
   ]
  },
  {
   "cell_type": "code",
   "execution_count": 5,
   "metadata": {},
   "outputs": [],
   "source": [
    "radars = pd.read_csv(r\"P:\\progress\\global_radar_map\\GlobalRadarStations.csv\", sep = \";\", encoding=\"cp1252\")"
   ]
  },
  {
   "cell_type": "code",
   "execution_count": 6,
   "metadata": {},
   "outputs": [],
   "source": [
    "lat = dem[\"variables\"][\"latitude\"][\"data\"]\n",
    "lon = dem[\"variables\"][\"longitude\"][\"data\"]\n",
    "elev = dem[\"variables\"][\"elevation\"][\"data\"]"
   ]
  },
  {
   "cell_type": "code",
   "execution_count": 31,
   "metadata": {},
   "outputs": [],
   "source": [
    "lon, lat = np.meshgrid(lon, lat)"
   ]
  },
  {
   "cell_type": "code",
   "execution_count": 52,
   "metadata": {},
   "outputs": [],
   "source": [
    "# Winkel-Tripel\n",
    "proj = wradlib.georef.epsg_to_osr(16)"
   ]
  },
  {
   "cell_type": "code",
   "execution_count": 53,
   "metadata": {},
   "outputs": [
    {
     "ename": "TypeError",
     "evalue": "in method 'CoordinateTransformation_TransformPoints', argument 1 of type 'OSRCoordinateTransformationShadow *'",
     "output_type": "error",
     "traceback": [
      "\u001b[1;31m---------------------------------------------------------------------------\u001b[0m",
      "\u001b[1;31mTypeError\u001b[0m                                 Traceback (most recent call last)",
      "\u001b[1;32m<ipython-input-53-eed7efea1584>\u001b[0m in \u001b[0;36m<module>\u001b[1;34m()\u001b[0m\n\u001b[1;32m----> 1\u001b[1;33m \u001b[0mx\u001b[0m\u001b[1;33m,\u001b[0m \u001b[0my\u001b[0m \u001b[1;33m=\u001b[0m \u001b[0mwradlib\u001b[0m\u001b[1;33m.\u001b[0m\u001b[0mgeoref\u001b[0m\u001b[1;33m.\u001b[0m\u001b[0mreproject\u001b[0m\u001b[1;33m(\u001b[0m\u001b[0mlon\u001b[0m\u001b[1;33m,\u001b[0m \u001b[0mlat\u001b[0m\u001b[1;33m,\u001b[0m \u001b[0mprojection_target\u001b[0m\u001b[1;33m=\u001b[0m\u001b[0mproj\u001b[0m\u001b[1;33m)\u001b[0m\u001b[1;33m\u001b[0m\u001b[0m\n\u001b[0m",
      "\u001b[1;32mE:\\src\\git\\heistermann\\wradlib\\wradlib\\georef\\projection.py\u001b[0m in \u001b[0;36mreproject\u001b[1;34m(*args, **kwargs)\u001b[0m\n\u001b[0;32m    232\u001b[0m \u001b[1;33m\u001b[0m\u001b[0m\n\u001b[0;32m    233\u001b[0m     \u001b[0mct\u001b[0m \u001b[1;33m=\u001b[0m \u001b[0mosr\u001b[0m\u001b[1;33m.\u001b[0m\u001b[0mCoordinateTransformation\u001b[0m\u001b[1;33m(\u001b[0m\u001b[0mprojection_source\u001b[0m\u001b[1;33m,\u001b[0m \u001b[0mprojection_target\u001b[0m\u001b[1;33m)\u001b[0m\u001b[1;33m\u001b[0m\u001b[0m\n\u001b[1;32m--> 234\u001b[1;33m     \u001b[0mtrans\u001b[0m \u001b[1;33m=\u001b[0m \u001b[0mnp\u001b[0m\u001b[1;33m.\u001b[0m\u001b[0marray\u001b[0m\u001b[1;33m(\u001b[0m\u001b[0mct\u001b[0m\u001b[1;33m.\u001b[0m\u001b[0mTransformPoints\u001b[0m\u001b[1;33m(\u001b[0m\u001b[0mC\u001b[0m\u001b[1;33m)\u001b[0m\u001b[1;33m)\u001b[0m\u001b[1;33m\u001b[0m\u001b[0m\n\u001b[0m\u001b[0;32m    235\u001b[0m \u001b[1;33m\u001b[0m\u001b[0m\n\u001b[0;32m    236\u001b[0m     \u001b[1;32mif\u001b[0m \u001b[0mlen\u001b[0m\u001b[1;33m(\u001b[0m\u001b[0margs\u001b[0m\u001b[1;33m)\u001b[0m \u001b[1;33m==\u001b[0m \u001b[1;36m1\u001b[0m\u001b[1;33m:\u001b[0m\u001b[1;33m\u001b[0m\u001b[0m\n",
      "\u001b[1;32mC:\\Anaconda3\\envs\\WRADLIB\\lib\\site-packages\\osgeo\\osr.py\u001b[0m in \u001b[0;36mTransformPoints\u001b[1;34m(self, *args)\u001b[0m\n\u001b[0;32m   1286\u001b[0m     \u001b[1;32mdef\u001b[0m \u001b[0mTransformPoints\u001b[0m\u001b[1;33m(\u001b[0m\u001b[0mself\u001b[0m\u001b[1;33m,\u001b[0m \u001b[1;33m*\u001b[0m\u001b[0margs\u001b[0m\u001b[1;33m)\u001b[0m\u001b[1;33m:\u001b[0m\u001b[1;33m\u001b[0m\u001b[0m\n\u001b[0;32m   1287\u001b[0m         \u001b[1;34m\"\"\"TransformPoints(CoordinateTransformation self, int nCount)\"\"\"\u001b[0m\u001b[1;33m\u001b[0m\u001b[0m\n\u001b[1;32m-> 1288\u001b[1;33m         \u001b[1;32mreturn\u001b[0m \u001b[0m_osr\u001b[0m\u001b[1;33m.\u001b[0m\u001b[0mCoordinateTransformation_TransformPoints\u001b[0m\u001b[1;33m(\u001b[0m\u001b[0mself\u001b[0m\u001b[1;33m,\u001b[0m \u001b[1;33m*\u001b[0m\u001b[0margs\u001b[0m\u001b[1;33m)\u001b[0m\u001b[1;33m\u001b[0m\u001b[0m\n\u001b[0m\u001b[0;32m   1289\u001b[0m \u001b[1;33m\u001b[0m\u001b[0m\n\u001b[0;32m   1290\u001b[0m \u001b[0mCoordinateTransformation_swigregister\u001b[0m \u001b[1;33m=\u001b[0m \u001b[0m_osr\u001b[0m\u001b[1;33m.\u001b[0m\u001b[0mCoordinateTransformation_swigregister\u001b[0m\u001b[1;33m\u001b[0m\u001b[0m\n",
      "\u001b[1;31mTypeError\u001b[0m: in method 'CoordinateTransformation_TransformPoints', argument 1 of type 'OSRCoordinateTransformationShadow *'"
     ]
    }
   ],
   "source": [
    "x, y = wradlib.georef.reproject(lon, lat, projection_target=proj)"
   ]
  },
  {
   "cell_type": "code",
   "execution_count": 7,
   "metadata": {},
   "outputs": [],
   "source": [
    "#radpoints = []\n",
    "#for i in range(len(radars)):\n",
    "#    point = ogr.Geometry(ogr.wkbPoint)\n",
    "#    point.AddPoint(radars.x[i], radars.y[i])\n",
    "#    radpoints.append(point)"
   ]
  },
  {
   "cell_type": "code",
   "execution_count": 8,
   "metadata": {},
   "outputs": [],
   "source": [
    "def write_geojson(fname, geometry, geom_type):\n",
    "    \"\"\"Write GeoJSON file for ogr geometries\n",
    "    \n",
    "    Parameters\n",
    "    ----------\n",
    "    fname : string\n",
    "    geometry : ogr Geometry object\n",
    "    geom_type : ogr Geometry type, \n",
    "        e.g. ogr.wkbMultiPolygon, ogr.wkbPolygon, ogr.wkbMultiPoint\n",
    "    \n",
    "    \"\"\"\n",
    "    outDriver = ogr.GetDriverByName('GeoJSON')\n",
    "\n",
    "    # Create the output GeoJSON\n",
    "    outDataSource = outDriver.CreateDataSource(fname)\n",
    "    outLayer = outDataSource.CreateLayer(fname, geom_type=geom_type)\n",
    "\n",
    "    # Get the output Layer's Feature Definition\n",
    "    featureDefn = outLayer.GetLayerDefn()\n",
    "\n",
    "    # create a new feature\n",
    "    outFeature = ogr.Feature(featureDefn)\n",
    "\n",
    "    # Set new geometry\n",
    "    outFeature.SetGeometry(geometry)\n",
    "\n",
    "    # Add new feature to output Layer\n",
    "    outLayer.CreateFeature(outFeature)\n",
    "\n",
    "    # dereference the feature\n",
    "    outFeature = None\n",
    "\n",
    "    # Save and close DataSources\n",
    "    outDataSource = None"
   ]
  },
  {
   "cell_type": "code",
   "execution_count": 40,
   "metadata": {},
   "outputs": [
    {
     "ename": "RuntimeError",
     "evalue": "latitude or longitude exceeded limits",
     "output_type": "error",
     "traceback": [
      "\u001b[1;31m---------------------------------------------------------------------------\u001b[0m",
      "\u001b[1;31mRuntimeError\u001b[0m                              Traceback (most recent call last)",
      "\u001b[1;32m<ipython-input-40-d601c0476ecc>\u001b[0m in \u001b[0;36m<module>\u001b[1;34m()\u001b[0m\n\u001b[0;32m      8\u001b[0m \u001b[0mtransform\u001b[0m \u001b[1;33m=\u001b[0m \u001b[0mosr\u001b[0m\u001b[1;33m.\u001b[0m\u001b[0mCoordinateTransformation\u001b[0m\u001b[1;33m(\u001b[0m\u001b[0msource\u001b[0m\u001b[1;33m,\u001b[0m \u001b[0mwinkeltr\u001b[0m\u001b[1;33m)\u001b[0m\u001b[1;33m\u001b[0m\u001b[0m\n\u001b[0;32m      9\u001b[0m \u001b[1;33m\u001b[0m\u001b[0m\n\u001b[1;32m---> 10\u001b[1;33m \u001b[0mradpoints\u001b[0m\u001b[1;33m.\u001b[0m\u001b[0mTransform\u001b[0m\u001b[1;33m(\u001b[0m\u001b[0mtransform\u001b[0m\u001b[1;33m)\u001b[0m\u001b[1;33m\u001b[0m\u001b[0m\n\u001b[0m\u001b[0;32m     11\u001b[0m \u001b[1;33m\u001b[0m\u001b[0m\n\u001b[0;32m     12\u001b[0m \u001b[0mwrite_geojson\u001b[0m\u001b[1;33m(\u001b[0m\u001b[1;34m\"out/radpoints.geojson\"\u001b[0m\u001b[1;33m,\u001b[0m \u001b[0mradpoints\u001b[0m\u001b[1;33m,\u001b[0m \u001b[0mogr\u001b[0m\u001b[1;33m.\u001b[0m\u001b[0mwkbMultiPoint\u001b[0m\u001b[1;33m)\u001b[0m\u001b[1;33m\u001b[0m\u001b[0m\n",
      "\u001b[1;32mC:\\Anaconda3\\envs\\WRADLIB\\lib\\site-packages\\osgeo\\ogr.py\u001b[0m in \u001b[0;36mTransform\u001b[1;34m(self, *args)\u001b[0m\n\u001b[0;32m   7371\u001b[0m         \u001b[0mOGRERR_NONE\u001b[0m \u001b[0mon\u001b[0m \u001b[0msuccess\u001b[0m \u001b[1;32mor\u001b[0m \u001b[0man\u001b[0m \u001b[0merror\u001b[0m \u001b[0mcode\u001b[0m\u001b[1;33m.\u001b[0m\u001b[1;33m\u001b[0m\u001b[0m\n\u001b[0;32m   7372\u001b[0m         \"\"\"\n\u001b[1;32m-> 7373\u001b[1;33m         \u001b[1;32mreturn\u001b[0m \u001b[0m_ogr\u001b[0m\u001b[1;33m.\u001b[0m\u001b[0mGeometry_Transform\u001b[0m\u001b[1;33m(\u001b[0m\u001b[0mself\u001b[0m\u001b[1;33m,\u001b[0m \u001b[1;33m*\u001b[0m\u001b[0margs\u001b[0m\u001b[1;33m)\u001b[0m\u001b[1;33m\u001b[0m\u001b[0m\n\u001b[0m\u001b[0;32m   7374\u001b[0m \u001b[1;33m\u001b[0m\u001b[0m\n\u001b[0;32m   7375\u001b[0m \u001b[1;33m\u001b[0m\u001b[0m\n",
      "\u001b[1;31mRuntimeError\u001b[0m: latitude or longitude exceeded limits"
     ]
    }
   ],
   "source": [
    "radpoints = ogr.Geometry(ogr.wkbMultiPoint)\n",
    "for i in range(len(radars)):\n",
    "    point = ogr.Geometry(ogr.wkbPoint)\n",
    "    point.AddPoint(radars.x[i], radars.y[i])\n",
    "    radpoints.AddGeometry(point)\n",
    "    \n",
    "source = wradlib.georef.get_default_projection()\n",
    "transform = osr.CoordinateTransformation(source, winkeltr)\n",
    "\n",
    "radpoints.Transform(transform)\n",
    "\n",
    "write_geojson(\"out/radpoints.geojson\", radpoints, ogr.wkbMultiPoint)"
   ]
  },
  {
   "cell_type": "code",
   "execution_count": 48,
   "metadata": {},
   "outputs": [
    {
     "data": {
      "text/plain": [
       "179.9375"
      ]
     },
     "execution_count": 48,
     "metadata": {},
     "output_type": "execute_result"
    }
   ],
   "source": [
    "lon.max()"
   ]
  },
  {
   "cell_type": "code",
   "execution_count": 10,
   "metadata": {},
   "outputs": [],
   "source": [
    "bufferDistance = 1.5\n",
    "radbufrs = radpoints.Buffer(bufferDistance)\n",
    "\n",
    "write_geojson(\"out/radbufrs.geojson\", radbufrs, ogr.wkbMultiPolygon)"
   ]
  },
  {
   "cell_type": "code",
   "execution_count": 11,
   "metadata": {},
   "outputs": [],
   "source": [
    "#bufferDistance = 1\n",
    "#radbufrs = []\n",
    "#for radpoint in radpoints:\n",
    "#    poly = radpoint.Buffer(bufferDistance)\n",
    "#    radbufrs.append(poly)    "
   ]
  },
  {
   "cell_type": "code",
   "execution_count": 12,
   "metadata": {},
   "outputs": [],
   "source": [
    "# Create ring\n",
    "ring = ogr.Geometry(ogr.wkbLinearRing)\n",
    "ring.AddPoint(-180, -90)\n",
    "ring.AddPoint(-180, 90)\n",
    "ring.AddPoint(180, 90)\n",
    "ring.AddPoint(180, -90)\n",
    "ring.AddPoint(-180, -90)\n",
    "\n",
    "# Create polygon\n",
    "poly = ogr.Geometry(ogr.wkbPolygon)\n",
    "poly.AddGeometry(ring)\n",
    "\n",
    "write_geojson(\"out/clipfrom.geojson\", poly, ogr.wkbPolygon)"
   ]
  },
  {
   "cell_type": "code",
   "execution_count": 13,
   "metadata": {},
   "outputs": [],
   "source": [
    "clipped = poly.Difference(radbufrs)"
   ]
  },
  {
   "cell_type": "code",
   "execution_count": 14,
   "metadata": {},
   "outputs": [],
   "source": [
    "write_geojson(\"out/clipped.geojson\", clipped, ogr.wkbMultiPolygon)"
   ]
  },
  {
   "cell_type": "code",
   "execution_count": 16,
   "metadata": {},
   "outputs": [],
   "source": [
    "clipped_dict = eval(clipped.ExportToJson())"
   ]
  },
  {
   "cell_type": "code",
   "execution_count": 18,
   "metadata": {},
   "outputs": [
    {
     "data": {
      "text/plain": [
       "'MultiPolygon'"
      ]
     },
     "execution_count": 18,
     "metadata": {},
     "output_type": "execute_result"
    }
   ],
   "source": [
    "clipped_dict[\"type\"]"
   ]
  },
  {
   "cell_type": "code",
   "execution_count": 21,
   "metadata": {},
   "outputs": [],
   "source": [
    "from descartes import PolygonPatch\n",
    "BLUE = '#6699cc'\n",
    "fig = plt.figure() \n",
    "ax = fig.gca() \n",
    "ax.add_patch(PolygonPatch(clipped_dict, fc=\"black\", ec=\"black\", alpha=0.5, zorder=2 ))\n",
    "ax.axis('scaled')"
   ]
  },
  {
   "cell_type": "code",
   "execution_count": 24,
   "metadata": {},
   "outputs": [
    {
     "data": {
      "text/plain": [
       "<matplotlib.patches.PathPatch at 0xbd9df28>"
      ]
     },
     "execution_count": 24,
     "metadata": {},
     "output_type": "execute_result"
    }
   ],
   "source": [
    "fig = plt.figure(figsize=(10,8))\n",
    "ax = fig.add_subplot(111, aspect=\"equal\")\n",
    "plt.pcolormesh(lon, lat, elev, cmap=plt.cm.terrain)\n",
    "#plt.plot(radars.x, radars.y, \"ro\")\n",
    "ax.add_patch(PolygonPatch(clipped_dict, fc=\"black\", ec=\"black\", alpha=0.7, zorder=2 ))\n",
    "#ax.axis('scaled')"
   ]
  },
  {
   "cell_type": "code",
   "execution_count": null,
   "metadata": {},
   "outputs": [],
   "source": []
  }
 ],
 "metadata": {
  "kernelspec": {
   "display_name": "Python 3",
   "language": "python",
   "name": "python3"
  },
  "language_info": {
   "codemirror_mode": {
    "name": "ipython",
    "version": 3
   },
   "file_extension": ".py",
   "mimetype": "text/x-python",
   "name": "python",
   "nbconvert_exporter": "python",
   "pygments_lexer": "ipython3",
   "version": "3.6.6"
  },
  "toc": {
   "colors": {
    "hover_highlight": "#DAA520",
    "navigate_num": "#000000",
    "navigate_text": "#333333",
    "running_highlight": "#FF0000",
    "selected_highlight": "#FFD700",
    "sidebar_border": "#EEEEEE",
    "wrapper_background": "#FFFFFF"
   },
   "moveMenuLeft": true,
   "nav_menu": {
    "height": "12px",
    "width": "252px"
   },
   "navigate_menu": true,
   "number_sections": false,
   "sideBar": true,
   "threshold": 4,
   "toc_cell": false,
   "toc_section_display": "block",
   "toc_window_display": false,
   "widenNotebook": false
  }
 },
 "nbformat": 4,
 "nbformat_minor": 2
}
